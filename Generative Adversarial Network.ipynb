{
 "cells": [
  {
   "cell_type": "code",
   "execution_count": 2,
   "id": "f60d84a0",
   "metadata": {},
   "outputs": [
    {
     "data": {
      "text/plain": [
       "device(type='cpu')"
      ]
     },
     "execution_count": 2,
     "metadata": {},
     "output_type": "execute_result"
    }
   ],
   "source": [
    "import torch\n",
    "from torch import nn, optim\n",
    "from jcopdl.callback import Callback\n",
    "\n",
    "device = torch.device(\"cuda:0\" if torch.cuda.is_available() else \"cpu\")\n",
    "device"
   ]
  },
  {
   "cell_type": "markdown",
   "id": "b1e1eb4c",
   "metadata": {},
   "source": [
    "## Dataset and data loader"
   ]
  },
  {
   "cell_type": "code",
   "execution_count": 3,
   "id": "364aa22c",
   "metadata": {},
   "outputs": [],
   "source": [
    "from torchvision import datasets, transforms\n",
    "from torch.utils.data import DataLoader"
   ]
  },
  {
   "cell_type": "code",
   "execution_count": 4,
   "id": "ac44c0ce",
   "metadata": {},
   "outputs": [],
   "source": [
    "bs = 64\n",
    "\n",
    "train_transform = transforms.Compose([\n",
    "    transforms.Grayscale(),\n",
    "    transforms.ToTensor(),\n",
    "    transforms.Normalize([.5], [.5])\n",
    "])\n",
    "\n",
    "train_set = datasets.ImageFolder(\"data/train/\", transform=train_transform)\n",
    "trainloader = DataLoader(train_set, batch_size=bs, shuffle=True, num_workers=4)"
   ]
  },
  {
   "cell_type": "markdown",
   "id": "6b4ce683",
   "metadata": {},
   "source": [
    "## Arsitektur and configuration"
   ]
  },
  {
   "cell_type": "code",
   "execution_count": 5,
   "id": "294de10f",
   "metadata": {},
   "outputs": [],
   "source": [
    "import torch\n",
    "from torch import nn\n",
    "from jcopdl.layers import linear_block"
   ]
  },
  {
   "cell_type": "code",
   "execution_count": 6,
   "id": "b2873c75",
   "metadata": {},
   "outputs": [
    {
     "name": "stdout",
     "output_type": "stream",
     "text": [
      "Overwriting model_gan.py\n"
     ]
    }
   ],
   "source": [
    "%%writefile model_gan.py\n",
    "\n",
    "import torch\n",
    "from torch import nn\n",
    "from jcopdl.layers import linear_block\n",
    "\n",
    "class Discriminator(nn.Module):\n",
    "    def __init__(self):\n",
    "        super().__init__()\n",
    "        self.fc = nn.Sequential(\n",
    "            nn.Flatten(),\n",
    "            linear_block(784, 512, activation='lrelu'),\n",
    "            linear_block(512, 256, activation='lrelu'),\n",
    "            linear_block(256, 128, activation='lrelu'),\n",
    "            linear_block(128, 1, activation='sigmoid')\n",
    "        )\n",
    "    \n",
    "    def forward(self, x):\n",
    "        return self.fc(x)\n",
    "    \n",
    "class Generator(nn.Module):\n",
    "    def __init__(self):\n",
    "        super().__init__()\n",
    "        self.fc = nn.Sequential(\n",
    "            linear_block(100, 128, activation='lrelu'),\n",
    "            linear_block(128, 256, activation='lrelu', batch_norm=True),\n",
    "            linear_block(256, 512, activation='lrelu', batch_norm=True),\n",
    "            linear_block(512, 1024, activation='lrelu', batch_norm=True),\n",
    "            linear_block(1024, 784, activation='tanh')\n",
    "        )\n",
    "    \n",
    "    def forward(self, x):\n",
    "        return self.fc(x)\n",
    "    \n",
    "    def generate(self, n, device):\n",
    "        z = torch.randn((n, 100), device=device)\n",
    "        return self.fc(z)"
   ]
  },
  {
   "cell_type": "markdown",
   "id": "d72ef6c7",
   "metadata": {},
   "source": [
    "## Training preparation"
   ]
  },
  {
   "cell_type": "code",
   "execution_count": 7,
   "id": "8a198f19",
   "metadata": {},
   "outputs": [],
   "source": [
    "from model_gan import Discriminator, Generator"
   ]
  },
  {
   "cell_type": "code",
   "execution_count": 8,
   "id": "e5b58e07",
   "metadata": {},
   "outputs": [],
   "source": [
    "D = Discriminator().to(device)\n",
    "G = Generator().to(device)\n",
    "\n",
    "criterion = nn.BCELoss()\n",
    "\n",
    "d_optimizer = optim.AdamW(D.parameters(), lr=0.0002)\n",
    "g_optimizer = optim.AdamW(G.parameters(), lr=0.0002)"
   ]
  },
  {
   "cell_type": "markdown",
   "id": "172c7c93",
   "metadata": {},
   "source": [
    "## Training"
   ]
  },
  {
   "cell_type": "code",
   "execution_count": 9,
   "id": "abd23397",
   "metadata": {},
   "outputs": [],
   "source": [
    "import os\n",
    "from torchvision.utils import save_image"
   ]
  },
  {
   "cell_type": "code",
   "execution_count": 10,
   "id": "7cb962cf",
   "metadata": {},
   "outputs": [],
   "source": [
    "os.makedirs('output/GAN/', exist_ok=True)\n",
    "os.makedirs('model/GAN/', exist_ok=True)"
   ]
  },
  {
   "cell_type": "code",
   "execution_count": 11,
   "id": "e5370ddd",
   "metadata": {},
   "outputs": [
    {
     "name": "stdout",
     "output_type": "stream",
     "text": [
      "Epoch:     0 | D_loss: 0.03149 | G_loss: 9.79497\n",
      "Epoch:     5 | D_loss: 0.21948 | G_loss: 3.99216\n",
      "Epoch:    10 | D_loss: 0.23204 | G_loss: 5.14459\n",
      "Epoch:    15 | D_loss: 0.29811 | G_loss: 3.26552\n",
      "Epoch:    20 | D_loss: 0.44037 | G_loss: 1.65701\n",
      "Epoch:    25 | D_loss: 0.39387 | G_loss: 1.53519\n",
      "Epoch:    30 | D_loss: 0.44636 | G_loss: 1.36021\n",
      "Epoch:    35 | D_loss: 0.56285 | G_loss: 1.41897\n",
      "Epoch:    40 | D_loss: 0.59337 | G_loss: 1.53987\n",
      "Epoch:    45 | D_loss: 0.64477 | G_loss: 1.14708\n",
      "Epoch:    50 | D_loss: 0.66756 | G_loss: 1.25807\n",
      "Epoch:    55 | D_loss: 0.58304 | G_loss: 0.98072\n",
      "Epoch:    60 | D_loss: 0.59256 | G_loss: 1.11923\n",
      "Epoch:    65 | D_loss: 0.49924 | G_loss: 1.24293\n",
      "Epoch:    70 | D_loss: 0.66185 | G_loss: 1.01618\n",
      "Epoch:    75 | D_loss: 0.49263 | G_loss: 1.32328\n",
      "Epoch:    80 | D_loss: 0.58178 | G_loss: 0.94945\n",
      "Epoch:    85 | D_loss: 0.55581 | G_loss: 1.24072\n",
      "Epoch:    90 | D_loss: 0.59582 | G_loss: 0.93969\n",
      "Epoch:    95 | D_loss: 0.76758 | G_loss: 1.23837\n",
      "Epoch:   100 | D_loss: 0.64721 | G_loss: 0.92937\n",
      "Epoch:   105 | D_loss: 0.60764 | G_loss: 0.96131\n",
      "Epoch:   110 | D_loss: 0.64227 | G_loss: 0.91278\n",
      "Epoch:   115 | D_loss: 0.57881 | G_loss: 0.93364\n",
      "Epoch:   120 | D_loss: 0.56554 | G_loss: 1.36704\n",
      "Epoch:   125 | D_loss: 0.67116 | G_loss: 0.78124\n",
      "Epoch:   130 | D_loss: 0.60907 | G_loss: 1.00100\n",
      "Epoch:   135 | D_loss: 0.61416 | G_loss: 0.85628\n",
      "Epoch:   140 | D_loss: 0.67123 | G_loss: 0.88467\n",
      "Epoch:   145 | D_loss: 0.74415 | G_loss: 0.71846\n",
      "Epoch:   150 | D_loss: 0.74956 | G_loss: 0.82575\n"
     ]
    },
    {
     "ename": "KeyboardInterrupt",
     "evalue": "",
     "output_type": "error",
     "traceback": [
      "\u001b[1;31m---------------------------------------------------------------------------\u001b[0m",
      "\u001b[1;31mKeyboardInterrupt\u001b[0m                         Traceback (most recent call last)",
      "Cell \u001b[1;32mIn [11], line 31\u001b[0m\n\u001b[0;32m     29\u001b[0m     output \u001b[38;5;241m=\u001b[39m D(fake_img)\n\u001b[0;32m     30\u001b[0m     g_loss \u001b[38;5;241m=\u001b[39m criterion(output, real)\n\u001b[1;32m---> 31\u001b[0m     \u001b[43mg_loss\u001b[49m\u001b[38;5;241;43m.\u001b[39;49m\u001b[43mbackward\u001b[49m\u001b[43m(\u001b[49m\u001b[43m)\u001b[49m\n\u001b[0;32m     32\u001b[0m     g_optimizer\u001b[38;5;241m.\u001b[39mstep()\n\u001b[0;32m     34\u001b[0m \u001b[38;5;28;01mif\u001b[39;00m epoch \u001b[38;5;241m%\u001b[39m \u001b[38;5;241m5\u001b[39m \u001b[38;5;241m==\u001b[39m \u001b[38;5;241m0\u001b[39m:\n",
      "File \u001b[1;32m~\\anaconda3\\envs\\envir\\lib\\site-packages\\torch\\_tensor.py:492\u001b[0m, in \u001b[0;36mTensor.backward\u001b[1;34m(self, gradient, retain_graph, create_graph, inputs)\u001b[0m\n\u001b[0;32m    482\u001b[0m \u001b[38;5;28;01mif\u001b[39;00m has_torch_function_unary(\u001b[38;5;28mself\u001b[39m):\n\u001b[0;32m    483\u001b[0m     \u001b[38;5;28;01mreturn\u001b[39;00m handle_torch_function(\n\u001b[0;32m    484\u001b[0m         Tensor\u001b[38;5;241m.\u001b[39mbackward,\n\u001b[0;32m    485\u001b[0m         (\u001b[38;5;28mself\u001b[39m,),\n\u001b[1;32m   (...)\u001b[0m\n\u001b[0;32m    490\u001b[0m         inputs\u001b[38;5;241m=\u001b[39minputs,\n\u001b[0;32m    491\u001b[0m     )\n\u001b[1;32m--> 492\u001b[0m \u001b[43mtorch\u001b[49m\u001b[38;5;241;43m.\u001b[39;49m\u001b[43mautograd\u001b[49m\u001b[38;5;241;43m.\u001b[39;49m\u001b[43mbackward\u001b[49m\u001b[43m(\u001b[49m\n\u001b[0;32m    493\u001b[0m \u001b[43m    \u001b[49m\u001b[38;5;28;43mself\u001b[39;49m\u001b[43m,\u001b[49m\u001b[43m \u001b[49m\u001b[43mgradient\u001b[49m\u001b[43m,\u001b[49m\u001b[43m \u001b[49m\u001b[43mretain_graph\u001b[49m\u001b[43m,\u001b[49m\u001b[43m \u001b[49m\u001b[43mcreate_graph\u001b[49m\u001b[43m,\u001b[49m\u001b[43m \u001b[49m\u001b[43minputs\u001b[49m\u001b[38;5;241;43m=\u001b[39;49m\u001b[43minputs\u001b[49m\n\u001b[0;32m    494\u001b[0m \u001b[43m\u001b[49m\u001b[43m)\u001b[49m\n",
      "File \u001b[1;32m~\\anaconda3\\envs\\envir\\lib\\site-packages\\torch\\autograd\\__init__.py:251\u001b[0m, in \u001b[0;36mbackward\u001b[1;34m(tensors, grad_tensors, retain_graph, create_graph, grad_variables, inputs)\u001b[0m\n\u001b[0;32m    246\u001b[0m     retain_graph \u001b[38;5;241m=\u001b[39m create_graph\n\u001b[0;32m    248\u001b[0m \u001b[38;5;66;03m# The reason we repeat the same comment below is that\u001b[39;00m\n\u001b[0;32m    249\u001b[0m \u001b[38;5;66;03m# some Python versions print out the first line of a multi-line function\u001b[39;00m\n\u001b[0;32m    250\u001b[0m \u001b[38;5;66;03m# calls in the traceback and some print out the last line\u001b[39;00m\n\u001b[1;32m--> 251\u001b[0m \u001b[43mVariable\u001b[49m\u001b[38;5;241;43m.\u001b[39;49m\u001b[43m_execution_engine\u001b[49m\u001b[38;5;241;43m.\u001b[39;49m\u001b[43mrun_backward\u001b[49m\u001b[43m(\u001b[49m\u001b[43m  \u001b[49m\u001b[38;5;66;43;03m# Calls into the C++ engine to run the backward pass\u001b[39;49;00m\n\u001b[0;32m    252\u001b[0m \u001b[43m    \u001b[49m\u001b[43mtensors\u001b[49m\u001b[43m,\u001b[49m\n\u001b[0;32m    253\u001b[0m \u001b[43m    \u001b[49m\u001b[43mgrad_tensors_\u001b[49m\u001b[43m,\u001b[49m\n\u001b[0;32m    254\u001b[0m \u001b[43m    \u001b[49m\u001b[43mretain_graph\u001b[49m\u001b[43m,\u001b[49m\n\u001b[0;32m    255\u001b[0m \u001b[43m    \u001b[49m\u001b[43mcreate_graph\u001b[49m\u001b[43m,\u001b[49m\n\u001b[0;32m    256\u001b[0m \u001b[43m    \u001b[49m\u001b[43minputs\u001b[49m\u001b[43m,\u001b[49m\n\u001b[0;32m    257\u001b[0m \u001b[43m    \u001b[49m\u001b[43mallow_unreachable\u001b[49m\u001b[38;5;241;43m=\u001b[39;49m\u001b[38;5;28;43;01mTrue\u001b[39;49;00m\u001b[43m,\u001b[49m\n\u001b[0;32m    258\u001b[0m \u001b[43m    \u001b[49m\u001b[43maccumulate_grad\u001b[49m\u001b[38;5;241;43m=\u001b[39;49m\u001b[38;5;28;43;01mTrue\u001b[39;49;00m\u001b[43m,\u001b[49m\n\u001b[0;32m    259\u001b[0m \u001b[43m\u001b[49m\u001b[43m)\u001b[49m\n",
      "\u001b[1;31mKeyboardInterrupt\u001b[0m: "
     ]
    }
   ],
   "source": [
    "max_epochs = 500\n",
    "\n",
    "for epoch in range(max_epochs):\n",
    "    D.train()\n",
    "    G.train()\n",
    "    for real_img, _ in trainloader:\n",
    "        n_data = real_img.shape[0]\n",
    "        \n",
    "        real_img = real_img.to(device)\n",
    "        fake_img = G.generate(n_data, device)\n",
    "        \n",
    "        real = torch.ones((n_data,1), device=device)\n",
    "        fake = torch.zeros((n_data,1), device=device)\n",
    "        \n",
    "        d_optimizer.zero_grad()\n",
    "        \n",
    "        output = D(real_img)\n",
    "        d_real_loss = criterion(output, real)\n",
    "        \n",
    "        output = D(fake_img.detach())\n",
    "        d_fake_loss = criterion(output, fake)\n",
    "        \n",
    "        d_loss = d_real_loss + d_fake_loss\n",
    "        d_loss.backward()\n",
    "        d_optimizer.step()\n",
    "        \n",
    "        g_optimizer.zero_grad()\n",
    "        \n",
    "        output = D(fake_img)\n",
    "        g_loss = criterion(output, real)\n",
    "        g_loss.backward()\n",
    "        g_optimizer.step()\n",
    "        \n",
    "    if epoch % 5 == 0:\n",
    "        print(f'Epoch: {epoch:5} | D_loss: {d_loss/2:.5f} | G_loss: {g_loss:.5f}')\n",
    "        \n",
    "    if epoch % 15 == 0:\n",
    "        G.eval()\n",
    "        epoch = str(epoch).zfill(3)\n",
    "        fake_img = G.generate(64, device)\n",
    "        save_image(fake_img.view(-1, 1, 28, 28), f'output/GAN/ {epoch}.jpg', nrow=8, normalize=True)\n",
    "        \n",
    "        torch.save(G, 'model/GAN/generator.pth')\n",
    "        torch.save(D, 'model/GAN/discriminator.pth')"
   ]
  },
  {
   "cell_type": "code",
   "execution_count": null,
   "id": "e6815acd",
   "metadata": {},
   "outputs": [],
   "source": []
  },
  {
   "cell_type": "code",
   "execution_count": null,
   "id": "d9e8091b",
   "metadata": {},
   "outputs": [],
   "source": []
  },
  {
   "cell_type": "code",
   "execution_count": null,
   "id": "29f79ddb",
   "metadata": {},
   "outputs": [],
   "source": []
  },
  {
   "cell_type": "code",
   "execution_count": null,
   "id": "7dfb6cb5",
   "metadata": {},
   "outputs": [],
   "source": []
  },
  {
   "cell_type": "code",
   "execution_count": null,
   "id": "9669d902",
   "metadata": {},
   "outputs": [],
   "source": []
  },
  {
   "cell_type": "code",
   "execution_count": null,
   "id": "d4b51ef4",
   "metadata": {},
   "outputs": [],
   "source": []
  },
  {
   "cell_type": "code",
   "execution_count": null,
   "id": "17ebb92a",
   "metadata": {},
   "outputs": [],
   "source": []
  }
 ],
 "metadata": {
  "kernelspec": {
   "display_name": "Python 3 (ipykernel)",
   "language": "python",
   "name": "python3"
  },
  "language_info": {
   "codemirror_mode": {
    "name": "ipython",
    "version": 3
   },
   "file_extension": ".py",
   "mimetype": "text/x-python",
   "name": "python",
   "nbconvert_exporter": "python",
   "pygments_lexer": "ipython3",
   "version": "3.9.18"
  }
 },
 "nbformat": 4,
 "nbformat_minor": 5
}
